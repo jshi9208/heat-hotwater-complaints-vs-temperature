{
  "nbformat": 4,
  "nbformat_minor": 0,
  "metadata": {
    "colab": {
      "provenance": []
    },
    "kernelspec": {
      "name": "python3",
      "display_name": "Python 3"
    },
    "language_info": {
      "name": "python"
    }
  },
  "cells": [
    {
      "cell_type": "code",
      "execution_count": null,
      "metadata": {
        "id": "WQGD4_wHv3VZ",
        "colab": {
          "base_uri": "https://localhost:8080/"
        },
        "outputId": "301540c8-6e03-46a4-9810-e12abc6f027d"
      },
      "outputs": [
        {
          "output_type": "stream",
          "name": "stdout",
          "text": [
            "Looking in indexes: https://pypi.org/simple, https://us-python.pkg.dev/colab-wheels/public/simple/\n",
            "Requirement already satisfied: sodapy in /usr/local/lib/python3.9/dist-packages (2.2.0)\n",
            "Requirement already satisfied: requests>=2.28.1 in /usr/local/lib/python3.9/dist-packages (from sodapy) (2.28.2)\n",
            "Requirement already satisfied: urllib3<1.27,>=1.21.1 in /usr/local/lib/python3.9/dist-packages (from requests>=2.28.1->sodapy) (1.26.15)\n",
            "Requirement already satisfied: charset-normalizer<4,>=2 in /usr/local/lib/python3.9/dist-packages (from requests>=2.28.1->sodapy) (2.0.12)\n",
            "Requirement already satisfied: certifi>=2017.4.17 in /usr/local/lib/python3.9/dist-packages (from requests>=2.28.1->sodapy) (2022.12.7)\n",
            "Requirement already satisfied: idna<4,>=2.5 in /usr/local/lib/python3.9/dist-packages (from requests>=2.28.1->sodapy) (3.4)\n"
          ]
        }
      ],
      "source": [
        "%pip install sodapy\n",
        "import pandas as pd\n",
        "from sodapy import Socrata\n",
        "# The Host Name for the API endpoint. The https:// will be added by Sodapy\n",
        "data_url='data.cityofnewyork.us'\n",
        "# The data set at the API endpoint (311 data in this case)\n",
        "data_set='5n7p-9c6r'\n",
        "# The app token created at data.cityofnewyork.us/profile/edit/developer_settings\n",
        "app_token='w4zM0l98L73cjj2ZHAjDQdtTV'\n",
        "# Create the client to point to the API endpoint\n",
        "client = Socrata(data_url, app_token)\n",
        "# Set the timeout to 120 seconds. If we get timeout errors, increase this value\n",
        "client.timeout = 50000000\n"
      ]
    },
    {
      "cell_type": "code",
      "source": [
        "# Start at record 0 of the results\n",
        "start = 0\n",
        "# Fetch 2000 rows at a time\n",
        "chunk_size = 2000\n",
        "# Empty out our result list\n",
        "results =[]\n",
        "where_clause=\"date_extract_y(created_date)=2023\"\n",
        "# See how many complaint records there are\n",
        "record_count = client.get(data_set, where=where_clause, select=\"COUNT(*)\")\n",
        "print(record_count)\n",
        "# Loop until we have fetched all of the records\n",
        "while True:\n",
        "# Fetch the set of records starting at 'start'\n",
        "    results.extend( client.get(data_set, where=where_clause, offset=start, limit=chunk_size))\n",
        "# Move up the starting record for the next chunk\n",
        "    start = start + chunk_size\n",
        "# If we have fetched all of the records, bail out\n",
        "    if (start > int(record_count[0]['count']) ):\n",
        "      break\n",
        "\n",
        "# Convert the results list into a pandas data frame\n",
        "df = pd.DataFrame.from_records(results)\n",
        "# Save the dataframe to a CSV file\n",
        "df.to_csv(\"hot_water_complaints_2023.csv\", index=False)"
      ],
      "metadata": {
        "colab": {
          "base_uri": "https://localhost:8080/"
        },
        "id": "LJYDWLLiFYnH",
        "outputId": "ed2ef240-4a89-49f7-e2b9-f8473654d1ef"
      },
      "execution_count": null,
      "outputs": [
        {
          "output_type": "stream",
          "name": "stdout",
          "text": [
            "[{'count': '99436'}]\n"
          ]
        }
      ]
    },
    {
      "cell_type": "code",
      "source": [],
      "metadata": {
        "id": "Q-_rNlKL2A3X"
      },
      "execution_count": null,
      "outputs": []
    }
  ]
}